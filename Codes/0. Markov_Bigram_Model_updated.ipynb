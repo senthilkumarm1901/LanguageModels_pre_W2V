{
  "cells": [
    {
      "metadata": {
        "_uuid": "a15a75a7b26c7ef93cbb41a271141d3a29ab7298"
      },
      "cell_type": "markdown",
      "source": "https://pdfs.semanticscholar.org/presentation/b2ac/7b9e690272f87131477dffa627c8179cc91c.pdf<br>https://web.stanford.edu/~jurafsky/slp3/4.pdf <br>\nWhat are language models? <br>\n\nhttps://sookocheff.com/post/nlp/n-gram-modeling/<br>\n\nhttps://d3c33hcgiwev3.cloudfront.net/_aa08682f2130e183c01bb5851d06f60b_w2_l1_e1_new.pdf?Expires=1529366400&Signature=Fd2eYWMHH366t93TOv58dLR3A8i0EGLR3-XCOJeOcNIa54PphnqmuULXVv0-6vAwl4Gl~xmfWcuiDTdFBa~eGksOGlP1S1pf3P5dXWwtBvoSD57P1ZZzB3PYdcA3VIpD6em5r3YK3yvty4fjGmZg398TvXGt8pdIj0~ygMNEg3A_&Key-Pair-Id=APKAJLTNE6QMUY6HBC5A <br>\nhttps://www.coursera.org/learn/language-processing/lecture/IdJFl/count-n-gram-language-models<br>\nCoursera - PDF and Link to the Video<br>\n\nhttps://github.com/lmc2179/ngram-language-model<br>\n\nhttp://www.cs.cmu.edu/~bhiksha/courses/11-756.asr/spring2010/class.19apr/ngrams.pdf<br>\n\nNext Topic is Hidden Markov Models:\nhttp://www.cs.cmu.edu/~bhiksha/courses/11-756.asr/spring2010/class.19apr/ngrams.pdf<br>\nhttps://www.youtube.com/watch?v=HVAwc0SOEoQ<br>\n"
    },
    {
      "metadata": {
        "_uuid": "8f2839f25d086af736a60e9eeb907d3b93b6e0e5",
        "_cell_guid": "b1076dfc-b9ad-4769-8c92-a6c4dae69d19",
        "trusted": true
      },
      "cell_type": "code",
      "source": "# This Python 3 environment comes with many helpful analytics libraries installed\n# It is defined by the kaggle/python docker image: https://github.com/kaggle/docker-python\n# For example, here's several helpful packages to load in \n\nimport numpy as np # linear algebra\nimport pandas as pd # data processing, CSV file I/O (e.g. pd.read_csv)\n\n# Input data files are available in the \"../input/\" directory.\n# For example, running this (by clicking run or pressing Shift+Enter) will list the files in the input directory\n\nimport os\nprint(os.listdir(\"../input\"))\n\n# Any results you write to the current directory are saved as output.",
      "execution_count": 1,
      "outputs": [
        {
          "output_type": "stream",
          "text": "[]\n",
          "name": "stdout"
        }
      ]
    },
    {
      "metadata": {
        "_cell_guid": "79c7e3d0-c299-4dcb-8224-4455121ee9b0",
        "collapsed": true,
        "_uuid": "d629ff2d2480ee46fbb7e2d37f6b5fab8052498a",
        "trusted": true
      },
      "cell_type": "code",
      "source": "import nltk\nfrom nltk.corpus import brown\nfrom collections import Counter",
      "execution_count": 2,
      "outputs": []
    },
    {
      "metadata": {
        "trusted": true,
        "_uuid": "d3c0517c870ebb21641a1eb3ee2c0e960af4ea8e"
      },
      "cell_type": "code",
      "source": "brown.categories()",
      "execution_count": 3,
      "outputs": [
        {
          "output_type": "execute_result",
          "execution_count": 3,
          "data": {
            "text/plain": "['adventure',\n 'belles_lettres',\n 'editorial',\n 'fiction',\n 'government',\n 'hobbies',\n 'humor',\n 'learned',\n 'lore',\n 'mystery',\n 'news',\n 'religion',\n 'reviews',\n 'romance',\n 'science_fiction']"
          },
          "metadata": {}
        }
      ]
    },
    {
      "metadata": {
        "trusted": true,
        "_uuid": "259013e0cf97551f7ae6660bf5fc0839be610f74"
      },
      "cell_type": "code",
      "source": "news_text = brown.sents(categories='news')",
      "execution_count": 5,
      "outputs": []
    },
    {
      "metadata": {
        "trusted": true,
        "_uuid": "46b23f94d3e0bd091cdd52aa6adb02b69cb9f054"
      },
      "cell_type": "code",
      "source": "print (news_text[0:5])",
      "execution_count": 6,
      "outputs": [
        {
          "output_type": "stream",
          "text": "[['The', 'Fulton', 'County', 'Grand', 'Jury', 'said', 'Friday', 'an', 'investigation', 'of', \"Atlanta's\", 'recent', 'primary', 'election', 'produced', '``', 'no', 'evidence', \"''\", 'that', 'any', 'irregularities', 'took', 'place', '.'], ['The', 'jury', 'further', 'said', 'in', 'term-end', 'presentments', 'that', 'the', 'City', 'Executive', 'Committee', ',', 'which', 'had', 'over-all', 'charge', 'of', 'the', 'election', ',', '``', 'deserves', 'the', 'praise', 'and', 'thanks', 'of', 'the', 'City', 'of', 'Atlanta', \"''\", 'for', 'the', 'manner', 'in', 'which', 'the', 'election', 'was', 'conducted', '.'], ['The', 'September-October', 'term', 'jury', 'had', 'been', 'charged', 'by', 'Fulton', 'Superior', 'Court', 'Judge', 'Durwood', 'Pye', 'to', 'investigate', 'reports', 'of', 'possible', '``', 'irregularities', \"''\", 'in', 'the', 'hard-fought', 'primary', 'which', 'was', 'won', 'by', 'Mayor-nominate', 'Ivan', 'Allen', 'Jr.', '.'], ['``', 'Only', 'a', 'relative', 'handful', 'of', 'such', 'reports', 'was', 'received', \"''\", ',', 'the', 'jury', 'said', ',', '``', 'considering', 'the', 'widespread', 'interest', 'in', 'the', 'election', ',', 'the', 'number', 'of', 'voters', 'and', 'the', 'size', 'of', 'this', 'city', \"''\", '.'], ['The', 'jury', 'said', 'it', 'did', 'find', 'that', 'many', 'of', \"Georgia's\", 'registration', 'and', 'election', 'laws', '``', 'are', 'outmoded', 'or', 'inadequate', 'and', 'often', 'ambiguous', \"''\", '.']]\n",
          "name": "stdout"
        }
      ]
    },
    {
      "metadata": {
        "trusted": true,
        "collapsed": true,
        "_uuid": "0160cea2da6424d77c43da9044009d93ffd5fcc0"
      },
      "cell_type": "code",
      "source": "news_text_lowered=[[each_word.lower() for each_word in each_sent] for each_sent in news_text]",
      "execution_count": 7,
      "outputs": []
    },
    {
      "metadata": {
        "trusted": true,
        "_uuid": "feee5de7bb0d74b5735cb7d54517c60eef341ba2"
      },
      "cell_type": "code",
      "source": "news_text_lowered_list=[each_word for each_sent in news_text_lowered for each_word in each_sent]\nUnique_words=list(set(news_text_lowered_list))\nvocab_size=len(Unique_words)\nno_of_words=len(news_text_lowered_list)\nprint (vocab_size,no_of_words)",
      "execution_count": 8,
      "outputs": [
        {
          "output_type": "stream",
          "text": "13112 100554\n",
          "name": "stdout"
        }
      ]
    },
    {
      "metadata": {
        "trusted": true,
        "_uuid": "d7481110e373ee0e5b74429f9cce38b3d8072ec0"
      },
      "cell_type": "code",
      "source": "def bigrams(input_list):\n    return list(zip(input_list,input_list[1:]))\nbigrams_list=[bigrams(each_sent) for each_sent in news_text_lowered]\nprint (bigrams_list[0:2])",
      "execution_count": 9,
      "outputs": [
        {
          "output_type": "stream",
          "text": "[[('the', 'fulton'), ('fulton', 'county'), ('county', 'grand'), ('grand', 'jury'), ('jury', 'said'), ('said', 'friday'), ('friday', 'an'), ('an', 'investigation'), ('investigation', 'of'), ('of', \"atlanta's\"), (\"atlanta's\", 'recent'), ('recent', 'primary'), ('primary', 'election'), ('election', 'produced'), ('produced', '``'), ('``', 'no'), ('no', 'evidence'), ('evidence', \"''\"), (\"''\", 'that'), ('that', 'any'), ('any', 'irregularities'), ('irregularities', 'took'), ('took', 'place'), ('place', '.')], [('the', 'jury'), ('jury', 'further'), ('further', 'said'), ('said', 'in'), ('in', 'term-end'), ('term-end', 'presentments'), ('presentments', 'that'), ('that', 'the'), ('the', 'city'), ('city', 'executive'), ('executive', 'committee'), ('committee', ','), (',', 'which'), ('which', 'had'), ('had', 'over-all'), ('over-all', 'charge'), ('charge', 'of'), ('of', 'the'), ('the', 'election'), ('election', ','), (',', '``'), ('``', 'deserves'), ('deserves', 'the'), ('the', 'praise'), ('praise', 'and'), ('and', 'thanks'), ('thanks', 'of'), ('of', 'the'), ('the', 'city'), ('city', 'of'), ('of', 'atlanta'), ('atlanta', \"''\"), (\"''\", 'for'), ('for', 'the'), ('the', 'manner'), ('manner', 'in'), ('in', 'which'), ('which', 'the'), ('the', 'election'), ('election', 'was'), ('was', 'conducted'), ('conducted', '.')]]\n",
          "name": "stdout"
        }
      ]
    },
    {
      "metadata": {
        "trusted": true,
        "_uuid": "6fd1356d48908eebd6ce0d6a112c15bb874443e3",
        "collapsed": true
      },
      "cell_type": "code",
      "source": "bigrams_single_list=[each_word for each_sent in bigrams_list for each_word in each_sent]\n#flat_list = [item for sublist in l for item in sublist]\nCount_dict_bigrams=Counter(bigrams_single_list)\nCount_dict_unigrams=Counter(news_text_lowered_list)",
      "execution_count": 10,
      "outputs": []
    },
    {
      "metadata": {
        "trusted": true,
        "_uuid": "b5d8edd4d12b66f175fc9b3523f9494c3389d671",
        "collapsed": true
      },
      "cell_type": "code",
      "source": "def Markov(new_sent):\n    new_sent=new_sent.lower()\n    new_words=new_sent.split()\n    new_bigrams=bigrams(new_words)\n    Markov_prob=0\n    for each in new_bigrams:\n        #print (np.log(Count_dict_bigrams[each]+1/(Count_dict_unigrams[each[0]]+vocab_size)))\n        Markov_prob+=np.log((Count_dict_bigrams[each]+0.1)/(Count_dict_unigrams[each[0]]+vocab_size)) #0.1 is the add-one smoothing\n    Markov_prob+=np.log((Count_dict_unigrams[new_words[0]]+0.1)/(no_of_words))\n    return Markov_prob/len(new_words)",
      "execution_count": 24,
      "outputs": []
    },
    {
      "metadata": {
        "trusted": true,
        "_uuid": "b94f601c449310678805dfa0dbfeb97b8794d17a"
      },
      "cell_type": "code",
      "source": "print (Markov(\"the fulton county jury said\"))\nprint (Markov(\"some random statement is this\"))\nprint (Markov('only a relative handful of such reports'))\nprint (Markov(\"ramdndomm fhlkh kjkel kjlk\"))",
      "execution_count": 25,
      "outputs": [
        {
          "output_type": "stream",
          "text": "-7.53636837185\n-10.3185123339\n-8.58391482829\n-12.2931599772\n",
          "name": "stdout"
        }
      ]
    }
  ],
  "metadata": {
    "kernelspec": {
      "display_name": "Python 3",
      "language": "python",
      "name": "python3"
    },
    "language_info": {
      "name": "python",
      "version": "3.6.5",
      "mimetype": "text/x-python",
      "codemirror_mode": {
        "name": "ipython",
        "version": 3
      },
      "pygments_lexer": "ipython3",
      "nbconvert_exporter": "python",
      "file_extension": ".py"
    }
  },
  "nbformat": 4,
  "nbformat_minor": 1
}
