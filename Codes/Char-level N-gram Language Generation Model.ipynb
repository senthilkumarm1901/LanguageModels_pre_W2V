{
 "cells": [
  {
   "cell_type": "markdown",
   "metadata": {},
   "source": [
    "Reference Links: \n",
    "* Character and Word Language Models\n",
    "    * https://stackabuse.com/python-for-nlp-developing-an-automatic-text-filler-using-n-grams/"
   ]
  },
  {
   "cell_type": "markdown",
   "metadata": {},
   "source": [
    "**To be noted**: <br> Definitly, neural language models are the best. <br> But let us see here, how to build decent character-level language models using tri-grams and bi-grams"
   ]
  },
  {
   "cell_type": "code",
   "execution_count": 73,
   "metadata": {},
   "outputs": [],
   "source": [
    "import numpy as np\n",
    "import pandas as pd\n",
    "import random\n",
    "from collections import Counter"
   ]
  },
  {
   "cell_type": "markdown",
   "metadata": {},
   "source": [
    "**Objective**: *To randomly generate new dinosaurus names*"
   ]
  },
  {
   "cell_type": "markdown",
   "metadata": {},
   "source": [
    "###### Understanding the data"
   ]
  },
  {
   "cell_type": "markdown",
   "metadata": {},
   "source": [
    "Data, containing a list of dinosaur names, is taken from Deeplearning.ai Coursera Sequence Models Course Week 1"
   ]
  },
  {
   "cell_type": "code",
   "execution_count": 74,
   "metadata": {},
   "outputs": [],
   "source": [
    "names = pd.read_csv('../Data/dinos.txt',index_col=False,header=None)"
   ]
  },
  {
   "cell_type": "code",
   "execution_count": 75,
   "metadata": {},
   "outputs": [],
   "source": [
    "names.columns = ['dino_full_name']\n",
    "names['dino_full_name'] = names['dino_full_name'].str.lower()"
   ]
  },
  {
   "cell_type": "code",
   "execution_count": 76,
   "metadata": {},
   "outputs": [],
   "source": [
    "names['dino_full_name_first'] = names['dino_full_name'].apply(lambda x: x[0:-6])\n",
    "names['dino_full_name_last'] = names['dino_full_name'].apply(lambda x: x[-6:])"
   ]
  },
  {
   "cell_type": "code",
   "execution_count": 77,
   "metadata": {},
   "outputs": [
    {
     "data": {
      "text/html": [
       "<div>\n",
       "<style scoped>\n",
       "    .dataframe tbody tr th:only-of-type {\n",
       "        vertical-align: middle;\n",
       "    }\n",
       "\n",
       "    .dataframe tbody tr th {\n",
       "        vertical-align: top;\n",
       "    }\n",
       "\n",
       "    .dataframe thead th {\n",
       "        text-align: right;\n",
       "    }\n",
       "</style>\n",
       "<table border=\"1\" class=\"dataframe\">\n",
       "  <thead>\n",
       "    <tr style=\"text-align: right;\">\n",
       "      <th></th>\n",
       "      <th>dino_full_name</th>\n",
       "      <th>dino_full_name_first</th>\n",
       "      <th>dino_full_name_last</th>\n",
       "    </tr>\n",
       "  </thead>\n",
       "  <tbody>\n",
       "    <tr>\n",
       "      <td>0</td>\n",
       "      <td>aachenosaurus</td>\n",
       "      <td>aacheno</td>\n",
       "      <td>saurus</td>\n",
       "    </tr>\n",
       "    <tr>\n",
       "      <td>1</td>\n",
       "      <td>aardonyx</td>\n",
       "      <td>aa</td>\n",
       "      <td>rdonyx</td>\n",
       "    </tr>\n",
       "    <tr>\n",
       "      <td>2</td>\n",
       "      <td>abdallahsaurus</td>\n",
       "      <td>abdallah</td>\n",
       "      <td>saurus</td>\n",
       "    </tr>\n",
       "    <tr>\n",
       "      <td>3</td>\n",
       "      <td>abelisaurus</td>\n",
       "      <td>abeli</td>\n",
       "      <td>saurus</td>\n",
       "    </tr>\n",
       "    <tr>\n",
       "      <td>4</td>\n",
       "      <td>abrictosaurus</td>\n",
       "      <td>abricto</td>\n",
       "      <td>saurus</td>\n",
       "    </tr>\n",
       "  </tbody>\n",
       "</table>\n",
       "</div>"
      ],
      "text/plain": [
       "   dino_full_name dino_full_name_first dino_full_name_last\n",
       "0   aachenosaurus              aacheno              saurus\n",
       "1        aardonyx                   aa              rdonyx\n",
       "2  abdallahsaurus             abdallah              saurus\n",
       "3     abelisaurus                abeli              saurus\n",
       "4   abrictosaurus              abricto              saurus"
      ]
     },
     "execution_count": 77,
     "metadata": {},
     "output_type": "execute_result"
    }
   ],
   "source": [
    "names.head()"
   ]
  },
  {
   "cell_type": "code",
   "execution_count": 78,
   "metadata": {},
   "outputs": [
    {
     "data": {
      "text/plain": [
       "saurus    713\n",
       "ratops     67\n",
       "raptor     50\n",
       "enator     29\n",
       "suchus     22\n",
       "ndylus     14\n",
       "pteryx     14\n",
       "atitan     12\n",
       "ephale     11\n",
       "nathus     11\n",
       "opelta     10\n",
       "omimus      9\n",
       "otitan      9\n",
       "rannus      8\n",
       "lophus      7\n",
       "nglong      7\n",
       "anlong      7\n",
       "lestes      6\n",
       "hoides      6\n",
       "asaura      6\n",
       "Name: dino_full_name_last, dtype: int64"
      ]
     },
     "execution_count": 78,
     "metadata": {},
     "output_type": "execute_result"
    }
   ],
   "source": [
    "# most dinosaur names end up being among the top 10\n",
    "names['dino_full_name_last'].value_counts()[0:20]"
   ]
  },
  {
   "cell_type": "code",
   "execution_count": 79,
   "metadata": {},
   "outputs": [
    {
     "data": {
      "text/plain": [
       "6"
      ]
     },
     "execution_count": 79,
     "metadata": {},
     "output_type": "execute_result"
    }
   ],
   "source": [
    "names['dino_full_name_last'].value_counts()['lestes']"
   ]
  },
  {
   "cell_type": "code",
   "execution_count": 80,
   "metadata": {},
   "outputs": [],
   "source": [
    "dino_last_names = [last_name for last_name in names['dino_full_name_last'] if last_name in names['dino_full_name_last'].value_counts().index[0:10]]"
   ]
  },
  {
   "cell_type": "code",
   "execution_count": 81,
   "metadata": {},
   "outputs": [
    {
     "data": {
      "text/plain": [
       "saurus    713\n",
       "ratops     67\n",
       "raptor     50\n",
       "enator     29\n",
       "suchus     22\n",
       "ndylus     14\n",
       "pteryx     14\n",
       "atitan     12\n",
       "nathus     11\n",
       "ephale     11\n",
       "dtype: int64"
      ]
     },
     "execution_count": 81,
     "metadata": {},
     "output_type": "execute_result"
    }
   ],
   "source": [
    "pd.Series(dino_last_names).value_counts()"
   ]
  },
  {
   "cell_type": "code",
   "execution_count": 82,
   "metadata": {},
   "outputs": [],
   "source": [
    "char_bigrams_list = [list(zip(text,text[1:])) for text in names['dino_full_name_first']]\n",
    "char_bigrams_list_unfurl = [each_bigram for each_list in char_bigrams_list for each_bigram in each_list]"
   ]
  },
  {
   "cell_type": "code",
   "execution_count": 83,
   "metadata": {},
   "outputs": [
    {
     "data": {
      "text/plain": [
       "[('a', 'a'), ('a', 'c'), ('c', 'h'), ('h', 'e'), ('e', 'n')]"
      ]
     },
     "execution_count": 83,
     "metadata": {},
     "output_type": "execute_result"
    }
   ],
   "source": [
    "char_bigrams_list_unfurl[0:5]"
   ]
  },
  {
   "cell_type": "code",
   "execution_count": 84,
   "metadata": {},
   "outputs": [
    {
     "data": {
      "text/plain": [
       "7668"
      ]
     },
     "execution_count": 84,
     "metadata": {},
     "output_type": "execute_result"
    }
   ],
   "source": [
    "len(char_bigrams_list_unfurl)"
   ]
  },
  {
   "cell_type": "code",
   "execution_count": 85,
   "metadata": {},
   "outputs": [],
   "source": [
    "char_trigrams_list = [list(zip(text,text[1:],text[2:])) for text in names['dino_full_name_first']]\n",
    "char_trigrams_list_unfurl = [each_trigram for each_list in char_trigrams_list for each_trigram in each_list]"
   ]
  },
  {
   "cell_type": "code",
   "execution_count": 86,
   "metadata": {},
   "outputs": [
    {
     "name": "stdout",
     "output_type": "stream",
     "text": [
      "[('a', 'a', 'c'), ('a', 'c', 'h'), ('c', 'h', 'e'), ('h', 'e', 'n'), ('e', 'n', 'o')]\n",
      "6180\n"
     ]
    }
   ],
   "source": [
    "print(char_trigrams_list_unfurl[0:5])\n",
    "print(len(char_trigrams_list_unfurl))"
   ]
  },
  {
   "cell_type": "code",
   "execution_count": 87,
   "metadata": {},
   "outputs": [],
   "source": [
    "list_first_2_chars = [text[0:2] for text in names.dino_full_name_first if len(text)>1]"
   ]
  },
  {
   "cell_type": "code",
   "execution_count": 90,
   "metadata": {},
   "outputs": [
    {
     "name": "stdout",
     "output_type": "stream",
     "text": [
      "broplisaurus\n",
      "prorkhorpsaurus\n",
      "jintagasaurus\n",
      "carsaurus\n",
      "gapophongasaurus\n",
      "teglangsaurus\n",
      "borudomachsaurus\n",
      "zheisaurus\n",
      "horachillisaurus\n",
      "aveiancsaurus\n"
     ]
    }
   ],
   "source": [
    "new_dino_name_length = np.random.randint(low=7, high=15, size=10)\n",
    "for length in new_dino_name_length:\n",
    "    created_dino_name = []\n",
    "    current_seq = random.choice(list_first_2_chars)\n",
    "    created_dino_name.append(current_seq)\n",
    "    for i in range(length-6):\n",
    "        next_char_possibilities = [element[2] for element in char_trigrams_list_unfurl if element[0]==current_seq[0] and element[1]==current_seq[1]]\n",
    "        if next_char_possibilities !=[]:\n",
    "            next_char = random.choice(next_char_possibilities)\n",
    "        else:\n",
    "            next_char_possibilities = [element[1] for element in char_bigrams_list_unfurl if element[0]==current_seq[1]]\n",
    "            if next_char_possibilities!=[]:\n",
    "                next_char = random.choice(next_char_possibilities)\n",
    "            else:\n",
    "                print(\"took from overall list\")\n",
    "                next_char = random.choice(char_split)\n",
    "        created_dino_name.append(next_char)\n",
    "        current_seq = created_dino_name[-2:]\n",
    "    created_dino_name_str = \"\".join(created_dino_name)\n",
    "    created_dino_name_str = created_dino_name_str + random.choice(dino_last_names)\n",
    "    print(created_dino_name_str)"
   ]
  }
 ],
 "metadata": {
  "kernelspec": {
   "display_name": "MLDLNLP_1",
   "language": "python",
   "name": "mldlnlp_1"
  },
  "language_info": {
   "codemirror_mode": {
    "name": "ipython",
    "version": 3
   },
   "file_extension": ".py",
   "mimetype": "text/x-python",
   "name": "python",
   "nbconvert_exporter": "python",
   "pygments_lexer": "ipython3",
   "version": "3.6.9"
  }
 },
 "nbformat": 4,
 "nbformat_minor": 2
}
