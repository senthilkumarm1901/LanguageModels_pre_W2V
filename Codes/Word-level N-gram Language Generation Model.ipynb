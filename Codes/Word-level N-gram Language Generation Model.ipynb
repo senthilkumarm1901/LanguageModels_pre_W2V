{
 "cells": [
  {
   "cell_type": "code",
   "execution_count": 1,
   "metadata": {},
   "outputs": [],
   "source": [
    "import numpy as np\n",
    "import pandas as pd\n",
    "import random\n",
    "from collections import Counter"
   ]
  },
  {
   "cell_type": "code",
   "execution_count": 31,
   "metadata": {},
   "outputs": [],
   "source": [
    "import re"
   ]
  },
  {
   "cell_type": "code",
   "execution_count": 43,
   "metadata": {},
   "outputs": [],
   "source": [
    "import spacy\n",
    "nlp = spacy.load('en')"
   ]
  },
  {
   "cell_type": "code",
   "execution_count": 28,
   "metadata": {},
   "outputs": [],
   "source": [
    "file = open(\"../Data/shakespeare.txt\",\"r\")"
   ]
  },
  {
   "cell_type": "code",
   "execution_count": 29,
   "metadata": {},
   "outputs": [],
   "source": [
    "list_lines = file.readlines()"
   ]
  },
  {
   "cell_type": "code",
   "execution_count": 30,
   "metadata": {},
   "outputs": [
    {
     "data": {
      "text/plain": [
       "['THE SONNETS\\n',\n",
       " '\\n',\n",
       " 'by William Shakespeare\\n',\n",
       " '\\n',\n",
       " 'From fairest creatures we desire increase,\\n',\n",
       " \"That thereby beauty's rose might never die,\\n\",\n",
       " 'But as the riper should by time decease,\\n',\n",
       " 'His tender heir might bear his memory:\\n',\n",
       " 'But thou contracted to thine own bright eyes,\\n',\n",
       " \"Feed'st thy light's flame with self-substantial fuel,\\n\"]"
      ]
     },
     "execution_count": 30,
     "metadata": {},
     "output_type": "execute_result"
    }
   ],
   "source": [
    "list_lines[0:10]"
   ]
  },
  {
   "cell_type": "code",
   "execution_count": 61,
   "metadata": {},
   "outputs": [],
   "source": [
    "list_lines_modified = [re.sub('\\n','',each_line) for each_line in list_lines if each_line!='\\n']"
   ]
  },
  {
   "cell_type": "code",
   "execution_count": 62,
   "metadata": {},
   "outputs": [
    {
     "data": {
      "text/plain": [
       "['THE SONNETS',\n",
       " 'by William Shakespeare',\n",
       " 'From fairest creatures we desire increase,',\n",
       " \"That thereby beauty's rose might never die,\",\n",
       " 'But as the riper should by time decease,',\n",
       " 'His tender heir might bear his memory:',\n",
       " 'But thou contracted to thine own bright eyes,',\n",
       " \"Feed'st thy light's flame with self-substantial fuel,\",\n",
       " 'Making a famine where abundance lies,',\n",
       " 'Thy self thy foe, to thy sweet self too cruel:']"
      ]
     },
     "execution_count": 62,
     "metadata": {},
     "output_type": "execute_result"
    }
   ],
   "source": [
    "list_lines_modified[0:10]"
   ]
  },
  {
   "cell_type": "code",
   "execution_count": 63,
   "metadata": {},
   "outputs": [
    {
     "data": {
      "text/plain": [
       "['Which many legions of true hearts had warmed,',\n",
       " 'And so the general of hot desire,',\n",
       " 'Was sleeping by a virgin hand disarmed.',\n",
       " 'This brand she quenched in a cool well by,',\n",
       " \"Which from Love's fire took heat perpetual,\",\n",
       " 'Growing a bath and healthful remedy,',\n",
       " \"For men discased, but I my mistress' thrall,\",\n",
       " 'Came there for cure and this by that I prove,  ',\n",
       " \"Love's fire heats water, water cools not love.\",\n",
       " '                THE END']"
      ]
     },
     "execution_count": 63,
     "metadata": {},
     "output_type": "execute_result"
    }
   ],
   "source": [
    "list_lines_modified[-10:]"
   ]
  },
  {
   "cell_type": "code",
   "execution_count": 64,
   "metadata": {},
   "outputs": [
    {
     "data": {
      "text/plain": [
       "2177"
      ]
     },
     "execution_count": 64,
     "metadata": {},
     "output_type": "execute_result"
    }
   ],
   "source": [
    "len(list_lines_modified)"
   ]
  },
  {
   "cell_type": "code",
   "execution_count": 67,
   "metadata": {},
   "outputs": [],
   "source": [
    "def unigrams(input_list):\n",
    "    return [element for element in input_list if element!='START' and element!='STOP']"
   ]
  },
  {
   "cell_type": "code",
   "execution_count": 68,
   "metadata": {},
   "outputs": [],
   "source": [
    "def bigrams(input_list):\n",
    "    bigrams_list = list(zip(input_list,input_list[1:]))\n",
    "    return bigrams_list"
   ]
  },
  {
   "cell_type": "code",
   "execution_count": 69,
   "metadata": {},
   "outputs": [],
   "source": [
    "def trigrams(input_list):\n",
    "    trigrams_list = list(zip(input_list,input_list[1:],input_list[2:]))\n",
    "    return trigrams_list"
   ]
  },
  {
   "cell_type": "code",
   "execution_count": 70,
   "metadata": {},
   "outputs": [],
   "source": [
    "def preprocess_text(sentence):\n",
    "    doc = nlp(sentence)\n",
    "    words = [each_token.text for each_token in doc]\n",
    "    words_proper = ['START']+words+['STOP']\n",
    "    trigrams_list = trigrams(words_proper)\n",
    "    bigrams_list = bigrams(words_proper)\n",
    "    unigrams_list = unigrams(words_proper)\n",
    "    return (unigrams_list,bigrams_list,trigrams_list)"
   ]
  },
  {
   "cell_type": "code",
   "execution_count": 72,
   "metadata": {},
   "outputs": [
    {
     "data": {
      "text/plain": [
       "(['From', 'fairest', 'creatures', 'we', 'desire', 'increase', ','],\n",
       " [('START', 'From'),\n",
       "  ('From', 'fairest'),\n",
       "  ('fairest', 'creatures'),\n",
       "  ('creatures', 'we'),\n",
       "  ('we', 'desire'),\n",
       "  ('desire', 'increase'),\n",
       "  ('increase', ','),\n",
       "  (',', 'STOP')],\n",
       " [('START', 'From', 'fairest'),\n",
       "  ('From', 'fairest', 'creatures'),\n",
       "  ('fairest', 'creatures', 'we'),\n",
       "  ('creatures', 'we', 'desire'),\n",
       "  ('we', 'desire', 'increase'),\n",
       "  ('desire', 'increase', ','),\n",
       "  ('increase', ',', 'STOP')])"
      ]
     },
     "execution_count": 72,
     "metadata": {},
     "output_type": "execute_result"
    }
   ],
   "source": [
    "preprocess_text(\"From fairest creatures we desire increase,\")"
   ]
  },
  {
   "cell_type": "code",
   "execution_count": 73,
   "metadata": {},
   "outputs": [
    {
     "name": "stdout",
     "output_type": "stream",
     "text": [
      "0\n",
      "100\n",
      "200\n",
      "300\n",
      "400\n",
      "500\n",
      "600\n",
      "700\n",
      "800\n",
      "900\n",
      "1000\n",
      "1100\n",
      "1200\n",
      "1300\n",
      "1400\n",
      "1500\n",
      "1600\n",
      "1700\n",
      "1800\n",
      "1900\n",
      "2000\n",
      "2100\n"
     ]
    }
   ],
   "source": [
    "unigrams_list = []\n",
    "bigrams_list = []\n",
    "trigrams_list = []\n",
    "\n",
    "for index,each_sent in enumerate(list_lines_modified):\n",
    "    if index%100 ==0: print(index)\n",
    "    unigrams_list_sentence,bigrams_list_sentence,trigrams_list_sentence = preprocess_text(each_sent)\n",
    "    unigrams_list.extend(unigrams_list_sentence)\n",
    "    bigrams_list.extend(bigrams_list_sentence)\n",
    "    trigrams_list.extend(trigrams_list_sentence)"
   ]
  },
  {
   "cell_type": "code",
   "execution_count": 88,
   "metadata": {},
   "outputs": [],
   "source": [
    "first_2_words_list = [each_sent.split()[0:2] for each_sent in list_lines_modified]"
   ]
  },
  {
   "cell_type": "code",
   "execution_count": 90,
   "metadata": {},
   "outputs": [
    {
     "data": {
      "text/plain": [
       "[['THE', 'SONNETS'],\n",
       " ['by', 'William'],\n",
       " ['From', 'fairest'],\n",
       " ['That', 'thereby'],\n",
       " ['But', 'as']]"
      ]
     },
     "execution_count": 90,
     "metadata": {},
     "output_type": "execute_result"
    }
   ],
   "source": [
    "first_2_words_list[0:5]"
   ]
  },
  {
   "cell_type": "code",
   "execution_count": null,
   "metadata": {},
   "outputs": [],
   "source": [
    "for length in new_dino_name_length:\n",
    "    created_dino_name = []\n",
    "    current_seq = random.choice(list_first_2_chars)\n",
    "    created_dino_name.append(current_seq)\n",
    "    for i in range(length-6):\n",
    "        next_char_possibilities = [element[2] for element in char_trigrams_list_unfurl if element[0]==current_seq[0] and element[1]==current_seq[1]]\n",
    "        if next_char_possibilities !=[]:\n",
    "            next_char = random.choice(next_char_possibilities)\n",
    "        else:\n",
    "            next_char_possibilities = [element[1] for element in char_bigrams_list_unfurl if element[0]==current_seq[1]]\n",
    "            if next_char_possibilities!=[]:\n",
    "                next_char = random.choice(next_char_possibilities)\n",
    "            else:\n",
    "                print(\"took from overall list\")\n",
    "                next_char = random.choice(char_split)\n",
    "        created_dino_name.append(next_char)\n",
    "        current_seq = created_dino_name[-2:]\n",
    "    created_dino_name_str = \"\".join(created_dino_name)\n",
    "    created_dino_name_str = created_dino_name_str + random.choice(dino_last_names)\n",
    "    print(created_dino_name_str)"
   ]
  },
  {
   "cell_type": "code",
   "execution_count": 76,
   "metadata": {},
   "outputs": [],
   "source": [
    "current_seq = random.choice(first_3_words_list)"
   ]
  },
  {
   "cell_type": "code",
   "execution_count": 99,
   "metadata": {},
   "outputs": [
    {
     "name": "stdout",
     "output_type": "stream",
     "text": [
      "Thy gift, thy mind ,   \n",
      " my woe , \n",
      " grounded on sinful loving , \n",
      " his windows glazed with thine eyes : \n",
      " the breath of words respect , \n",
      " stoln thy hair , \n",
      " love s long since , before these last so bad . \n",
      " Richer\n"
     ]
    }
   ],
   "source": [
    "# generate words\n",
    "\n",
    "num_of_words = 50\n",
    "new_text = []\n",
    "current_seq = random.choice(first_3_words_list)\n",
    "#print(\"current_seq:\",current_seq)\n",
    "new_text.extend(current_seq)\n",
    "for word in range(num_of_words-3):\n",
    "    next_word_possibilities = [element[2] for element in trigrams_list if element[0]==current_seq[0] and element[1]==current_seq[1]]\n",
    "    if next_word_possibilities !=[]:\n",
    "        next_word = random.choice(next_word_possibilities)\n",
    "        #print(\"next_word from trigrams:\",next_word)\n",
    "    else:\n",
    "        next_word_possibilities = [element[1] for element in bigrams_list if element[0]==current_seq[1]]\n",
    "        if next_word_possibilities!=[]:\n",
    "            next_word = random.choice(next_word_possibilities)\n",
    "            #print(\"next_word from bigrams:\",next_word)\n",
    "        else:\n",
    "            #print(\"took from unigrams list\")\n",
    "            next_word = random.choice(unigrams_list)\n",
    "            #print(next_word)\n",
    "    new_text.append(next_word)\n",
    "    current_seq = new_text[-2:]\n",
    "new_text_str = \" \".join(new_text)\n",
    "new_text_str_proper = re.sub('STOP','\\n',new_text_str)\n",
    "new_text_str_proper = re.sub(\"'\",'',new_text_str_proper)\n",
    "new_text_str_proper = new_text_str_proper.strip()\n",
    "print(new_text_str_proper)"
   ]
  }
 ],
 "metadata": {
  "kernelspec": {
   "display_name": "MLDLNLP_1",
   "language": "python",
   "name": "mldlnlp_1"
  },
  "language_info": {
   "codemirror_mode": {
    "name": "ipython",
    "version": 3
   },
   "file_extension": ".py",
   "mimetype": "text/x-python",
   "name": "python",
   "nbconvert_exporter": "python",
   "pygments_lexer": "ipython3",
   "version": "3.6.9"
  }
 },
 "nbformat": 4,
 "nbformat_minor": 2
}
